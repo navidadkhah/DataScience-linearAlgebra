{
 "cells": [
  {
   "cell_type": "code",
   "execution_count": 22,
   "id": "faedc314",
   "metadata": {},
   "outputs": [
    {
     "name": "stdout",
     "output_type": "stream",
     "text": [
      "['D', 'A', 'D', 'A', 'D', 'D']\n",
      "['H', 'D', 'H', 'A', 'D', 'A', 'D', 'D']\n",
      "75.0\n"
     ]
    }
   ],
   "source": [
    "import numpy as np\n",
    "import pandas as pd\n",
    "from datetime import date\n",
    "\n",
    "# dadane masir be barname\n",
    "path = pd.read_csv(r'C:\\Users\\Asus\\Downloads\\Telegram Desktop\\1.csv')\n",
    "\n",
    "# estekhraj kardane etelaAt az excel baraye shoroe kar\n",
    "kol=path[\"Date\"]\n",
    "barande=path['FTR']\n",
    "n=[]\n",
    "s=[]\n",
    "day=0\n",
    "\n",
    "# loop baraye be dast avordane tarikh haii ke rozeshan 13 bode va ba estefade az ketabkhaneye datetime peyda kardane in ke aya oon roz jome bode ya kheyr\n",
    "for x in range(len(kol)):\n",
    "   if kol[x].split(\"/\")[0]==\"13\":\n",
    "    day=date(int(kol[x].split(\"/\")[2]),int(kol[x].split(\"/\")[1]),int(kol[x].split(\"/\")[0]))\n",
    "    if day.strftime(\"%A\")==\"Friday\":\n",
    "        s.append(barande[x])\n",
    "        if barande[x] != \"H\":\n",
    "            n.append(barande[x])\n",
    "            \n",
    "# bazi haii ke dar roze 13om mah ke jome ham bode teame mizban ya mosavi karde ya bakhte\n",
    "print(n)\n",
    "\n",
    "# bazi haii ke dar roze 13om mah ke jome ham bode teame mizban borde\n",
    "print(s)\n",
    "\n",
    "# mohasebeye ehtemal\n",
    "print(len(n)/len(s)*100)"
   ]
  },
  {
   "cell_type": "code",
   "execution_count": null,
   "id": "0e03e279",
   "metadata": {},
   "outputs": [],
   "source": []
  },
  {
   "cell_type": "code",
   "execution_count": null,
   "id": "7a1b78f3",
   "metadata": {},
   "outputs": [],
   "source": []
  }
 ],
 "metadata": {
  "kernelspec": {
   "display_name": "Python 3",
   "language": "python",
   "name": "python3"
  },
  "language_info": {
   "codemirror_mode": {
    "name": "ipython",
    "version": 3
   },
   "file_extension": ".py",
   "mimetype": "text/x-python",
   "name": "python",
   "nbconvert_exporter": "python",
   "pygments_lexer": "ipython3",
   "version": "3.8.8"
  }
 },
 "nbformat": 4,
 "nbformat_minor": 5
}
