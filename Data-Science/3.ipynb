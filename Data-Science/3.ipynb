{
 "cells": [
  {
   "cell_type": "code",
   "execution_count": 56,
   "id": "6f696154",
   "metadata": {},
   "outputs": [
    {
     "name": "stdout",
     "output_type": "stream",
     "text": [
      "1102\n",
      "1210\n",
      "0.9107438016528926\n"
     ]
    }
   ],
   "source": [
    "import numpy as ny\n",
    "import pandas as pd\n",
    "\n",
    "# dadane masir be barname\n",
    "path=pd.read_csv(r'C:\\Users\\Asus\\Downloads\\Telegram Desktop\\1.csv')\n",
    "\n",
    "# peyda kardane bazi haii ke nime ye avaleshan ekhtelaf goale 2 vojod darad va dar nayahat oon teami ke nime aval ra ba ekhtelafe 2 goal borde barande shode ast\n",
    "barande = path[(( path[\"HTHG\"]-path[\"HTAG\"] == 2) & (path[\"FTR\"] == \"H\" )) | ((path[\"HTAG\"]-path[\"HTHG\"] == 2) & (path[\"FTR\"] == \"A\" ))]\n",
    "\n",
    "# peyda kardane kole bazi haii ke nime aval ekhtelaf 2 goal bode bedon dar nazar gereftane barandeye nahaii\n",
    "kol=path[( path[\"HTHG\"]-path[\"HTAG\"] == 2) | (path[\"HTAG\"]-path[\"HTHG\"] == 2)]\n",
    "\n",
    "\n",
    "n=len(barande)\n",
    "s=len(kol)\n",
    "\n",
    "# bazi haii ke teami ke nime aval ba ekhtelafe 2 goal borde va dar kol ham bazi ro borde\n",
    "print(n)\n",
    "\n",
    "# bazi haii ke teami ke nime aval ba ekhtelafe 2 goal borde \n",
    "print(s)\n",
    "\n",
    "# javab soal\n",
    "print(n/s)"
   ]
  },
  {
   "cell_type": "code",
   "execution_count": null,
   "id": "5d2732c2",
   "metadata": {},
   "outputs": [],
   "source": []
  },
  {
   "cell_type": "code",
   "execution_count": null,
   "id": "6771573f",
   "metadata": {},
   "outputs": [],
   "source": []
  }
 ],
 "metadata": {
  "kernelspec": {
   "display_name": "Python 3",
   "language": "python",
   "name": "python3"
  },
  "language_info": {
   "codemirror_mode": {
    "name": "ipython",
    "version": 3
   },
   "file_extension": ".py",
   "mimetype": "text/x-python",
   "name": "python",
   "nbconvert_exporter": "python",
   "pygments_lexer": "ipython3",
   "version": "3.8.8"
  }
 },
 "nbformat": 4,
 "nbformat_minor": 5
}
